{
  "cells": [
    {
      "cell_type": "markdown",
      "source": [
        "[All Resources for NLP](https://drive.google.com/drive/folders/1gAtmKXtB59sjqTuDl_Xj8S9Sp9DdjUH5?usp=sharing)\n"
      ],
      "metadata": {
        "id": "QelfW2XG9Ll7"
      },
      "id": "QelfW2XG9Ll7"
    },
    {
      "cell_type": "code",
      "execution_count": 1,
      "id": "4e3cca19",
      "metadata": {
        "colab": {
          "base_uri": "https://localhost:8080/"
        },
        "id": "4e3cca19",
        "outputId": "0359cb93-fbfb-4ca7-aa50-cdd04d64cb2b"
      },
      "outputs": [
        {
          "output_type": "stream",
          "name": "stdout",
          "text": [
            "Requirement already satisfied: tensorflow_hub in /usr/local/lib/python3.10/dist-packages (0.15.0)\n",
            "Requirement already satisfied: numpy>=1.12.0 in /usr/local/lib/python3.10/dist-packages (from tensorflow_hub) (1.23.5)\n",
            "Requirement already satisfied: protobuf>=3.19.6 in /usr/local/lib/python3.10/dist-packages (from tensorflow_hub) (3.20.3)\n"
          ]
        }
      ],
      "source": [
        "!pip install tensorflow_hub"
      ]
    },
    {
      "cell_type": "code",
      "execution_count": 2,
      "id": "592a67dd",
      "metadata": {
        "collapsed": true,
        "colab": {
          "base_uri": "https://localhost:8080/"
        },
        "id": "592a67dd",
        "outputId": "355e5c58-8413-4bf0-cb99-b7c2794ea3a8"
      },
      "outputs": [
        {
          "output_type": "stream",
          "name": "stdout",
          "text": [
            "Requirement already satisfied: tensorflow in /usr/local/lib/python3.10/dist-packages (2.15.0)\n",
            "Requirement already satisfied: absl-py>=1.0.0 in /usr/local/lib/python3.10/dist-packages (from tensorflow) (1.4.0)\n",
            "Requirement already satisfied: astunparse>=1.6.0 in /usr/local/lib/python3.10/dist-packages (from tensorflow) (1.6.3)\n",
            "Requirement already satisfied: flatbuffers>=23.5.26 in /usr/local/lib/python3.10/dist-packages (from tensorflow) (23.5.26)\n",
            "Requirement already satisfied: gast!=0.5.0,!=0.5.1,!=0.5.2,>=0.2.1 in /usr/local/lib/python3.10/dist-packages (from tensorflow) (0.5.4)\n",
            "Requirement already satisfied: google-pasta>=0.1.1 in /usr/local/lib/python3.10/dist-packages (from tensorflow) (0.2.0)\n",
            "Requirement already satisfied: h5py>=2.9.0 in /usr/local/lib/python3.10/dist-packages (from tensorflow) (3.9.0)\n",
            "Requirement already satisfied: libclang>=13.0.0 in /usr/local/lib/python3.10/dist-packages (from tensorflow) (16.0.6)\n",
            "Requirement already satisfied: ml-dtypes~=0.2.0 in /usr/local/lib/python3.10/dist-packages (from tensorflow) (0.2.0)\n",
            "Requirement already satisfied: numpy<2.0.0,>=1.23.5 in /usr/local/lib/python3.10/dist-packages (from tensorflow) (1.23.5)\n",
            "Requirement already satisfied: opt-einsum>=2.3.2 in /usr/local/lib/python3.10/dist-packages (from tensorflow) (3.3.0)\n",
            "Requirement already satisfied: packaging in /usr/local/lib/python3.10/dist-packages (from tensorflow) (23.2)\n",
            "Requirement already satisfied: protobuf!=4.21.0,!=4.21.1,!=4.21.2,!=4.21.3,!=4.21.4,!=4.21.5,<5.0.0dev,>=3.20.3 in /usr/local/lib/python3.10/dist-packages (from tensorflow) (3.20.3)\n",
            "Requirement already satisfied: setuptools in /usr/local/lib/python3.10/dist-packages (from tensorflow) (67.7.2)\n",
            "Requirement already satisfied: six>=1.12.0 in /usr/local/lib/python3.10/dist-packages (from tensorflow) (1.16.0)\n",
            "Requirement already satisfied: termcolor>=1.1.0 in /usr/local/lib/python3.10/dist-packages (from tensorflow) (2.4.0)\n",
            "Requirement already satisfied: typing-extensions>=3.6.6 in /usr/local/lib/python3.10/dist-packages (from tensorflow) (4.5.0)\n",
            "Requirement already satisfied: wrapt<1.15,>=1.11.0 in /usr/local/lib/python3.10/dist-packages (from tensorflow) (1.14.1)\n",
            "Requirement already satisfied: tensorflow-io-gcs-filesystem>=0.23.1 in /usr/local/lib/python3.10/dist-packages (from tensorflow) (0.35.0)\n",
            "Requirement already satisfied: grpcio<2.0,>=1.24.3 in /usr/local/lib/python3.10/dist-packages (from tensorflow) (1.60.0)\n",
            "Requirement already satisfied: tensorboard<2.16,>=2.15 in /usr/local/lib/python3.10/dist-packages (from tensorflow) (2.15.1)\n",
            "Requirement already satisfied: tensorflow-estimator<2.16,>=2.15.0 in /usr/local/lib/python3.10/dist-packages (from tensorflow) (2.15.0)\n",
            "Requirement already satisfied: keras<2.16,>=2.15.0 in /usr/local/lib/python3.10/dist-packages (from tensorflow) (2.15.0)\n",
            "Requirement already satisfied: wheel<1.0,>=0.23.0 in /usr/local/lib/python3.10/dist-packages (from astunparse>=1.6.0->tensorflow) (0.42.0)\n",
            "Requirement already satisfied: google-auth<3,>=1.6.3 in /usr/local/lib/python3.10/dist-packages (from tensorboard<2.16,>=2.15->tensorflow) (2.17.3)\n",
            "Requirement already satisfied: google-auth-oauthlib<2,>=0.5 in /usr/local/lib/python3.10/dist-packages (from tensorboard<2.16,>=2.15->tensorflow) (1.2.0)\n",
            "Requirement already satisfied: markdown>=2.6.8 in /usr/local/lib/python3.10/dist-packages (from tensorboard<2.16,>=2.15->tensorflow) (3.5.2)\n",
            "Requirement already satisfied: requests<3,>=2.21.0 in /usr/local/lib/python3.10/dist-packages (from tensorboard<2.16,>=2.15->tensorflow) (2.31.0)\n",
            "Requirement already satisfied: tensorboard-data-server<0.8.0,>=0.7.0 in /usr/local/lib/python3.10/dist-packages (from tensorboard<2.16,>=2.15->tensorflow) (0.7.2)\n",
            "Requirement already satisfied: werkzeug>=1.0.1 in /usr/local/lib/python3.10/dist-packages (from tensorboard<2.16,>=2.15->tensorflow) (3.0.1)\n",
            "Requirement already satisfied: cachetools<6.0,>=2.0.0 in /usr/local/lib/python3.10/dist-packages (from google-auth<3,>=1.6.3->tensorboard<2.16,>=2.15->tensorflow) (5.3.2)\n",
            "Requirement already satisfied: pyasn1-modules>=0.2.1 in /usr/local/lib/python3.10/dist-packages (from google-auth<3,>=1.6.3->tensorboard<2.16,>=2.15->tensorflow) (0.3.0)\n",
            "Requirement already satisfied: rsa<5,>=3.1.4 in /usr/local/lib/python3.10/dist-packages (from google-auth<3,>=1.6.3->tensorboard<2.16,>=2.15->tensorflow) (4.9)\n",
            "Requirement already satisfied: requests-oauthlib>=0.7.0 in /usr/local/lib/python3.10/dist-packages (from google-auth-oauthlib<2,>=0.5->tensorboard<2.16,>=2.15->tensorflow) (1.3.1)\n",
            "Requirement already satisfied: charset-normalizer<4,>=2 in /usr/local/lib/python3.10/dist-packages (from requests<3,>=2.21.0->tensorboard<2.16,>=2.15->tensorflow) (3.3.2)\n",
            "Requirement already satisfied: idna<4,>=2.5 in /usr/local/lib/python3.10/dist-packages (from requests<3,>=2.21.0->tensorboard<2.16,>=2.15->tensorflow) (3.6)\n",
            "Requirement already satisfied: urllib3<3,>=1.21.1 in /usr/local/lib/python3.10/dist-packages (from requests<3,>=2.21.0->tensorboard<2.16,>=2.15->tensorflow) (2.0.7)\n",
            "Requirement already satisfied: certifi>=2017.4.17 in /usr/local/lib/python3.10/dist-packages (from requests<3,>=2.21.0->tensorboard<2.16,>=2.15->tensorflow) (2023.11.17)\n",
            "Requirement already satisfied: MarkupSafe>=2.1.1 in /usr/local/lib/python3.10/dist-packages (from werkzeug>=1.0.1->tensorboard<2.16,>=2.15->tensorflow) (2.1.4)\n",
            "Requirement already satisfied: pyasn1<0.6.0,>=0.4.6 in /usr/local/lib/python3.10/dist-packages (from pyasn1-modules>=0.2.1->google-auth<3,>=1.6.3->tensorboard<2.16,>=2.15->tensorflow) (0.5.1)\n",
            "Requirement already satisfied: oauthlib>=3.0.0 in /usr/local/lib/python3.10/dist-packages (from requests-oauthlib>=0.7.0->google-auth-oauthlib<2,>=0.5->tensorboard<2.16,>=2.15->tensorflow) (3.2.2)\n"
          ]
        }
      ],
      "source": [
        "!pip install tensorflow"
      ]
    },
    {
      "cell_type": "markdown",
      "source": [
        "### Loading TOKEN BASED TEXT EMBEDDING trained on English Wikipedia Corpus"
      ],
      "metadata": {
        "id": "XEdLaldBgOxn"
      },
      "id": "XEdLaldBgOxn"
    },
    {
      "cell_type": "code",
      "execution_count": 3,
      "metadata": {
        "id": "6d0cd246"
      },
      "outputs": [],
      "source": [
        "import tensorflow_hub as hub\n",
        "embed = hub.load(\"https://tfhub.dev/google/Wiki-words-250/2\")\n",
        "#https://tfhub.dev/google/Wiki-words-250/2"
      ],
      "id": "6d0cd246"
    },
    {
      "cell_type": "code",
      "execution_count": 4,
      "metadata": {
        "collapsed": true,
        "colab": {
          "base_uri": "https://localhost:8080/"
        },
        "id": "d69ff6e1",
        "outputId": "fe9db1a2-9306-48b5-8f07-dbe9a8b0a7ae"
      },
      "outputs": [
        {
          "output_type": "execute_result",
          "data": {
            "text/plain": [
              "TensorShape([1, 250])"
            ]
          },
          "metadata": {},
          "execution_count": 4
        }
      ],
      "source": [
        "v1 = embed([\"king\"])\n",
        "v1.shape\n",
        "# v1[0].shape"
      ],
      "id": "d69ff6e1"
    },
    {
      "cell_type": "code",
      "execution_count": 10,
      "metadata": {
        "collapsed": true,
        "colab": {
          "base_uri": "https://localhost:8080/"
        },
        "id": "3c4ba742",
        "outputId": "352515f3-781e-407e-a202-bf5a2323aa67"
      },
      "outputs": [
        {
          "output_type": "execute_result",
          "data": {
            "text/plain": [
              "TensorShape([1, 250])"
            ]
          },
          "metadata": {},
          "execution_count": 10
        }
      ],
      "source": [
        "v2 = embed([\"cat\"])\n",
        "v2.shape"
      ],
      "id": "3c4ba742"
    },
    {
      "cell_type": "code",
      "source": [
        "# from numpy import dot\n",
        "# from numpy.linalg import norm\n",
        "# cos_sim = np.dot(v1, v2.T)/(norm(v1)*norm(v2))\n",
        "\n",
        "from scipy import spatial\n",
        "result = 1 - spatial.distance.cosine(v1[0], v2[0])\n",
        "\n",
        "result"
      ],
      "metadata": {
        "colab": {
          "base_uri": "https://localhost:8080/"
        },
        "id": "ekGvMfRvrIar",
        "outputId": "7fe622fb-bfe3-4f78-e962-8000f88f0696"
      },
      "id": "ekGvMfRvrIar",
      "execution_count": 11,
      "outputs": [
        {
          "output_type": "execute_result",
          "data": {
            "text/plain": [
              "0.020226946100592613"
            ]
          },
          "metadata": {},
          "execution_count": 11
        }
      ]
    },
    {
      "cell_type": "markdown",
      "source": [
        "### ***TEXT VECTORIZATION Example- using Pre-trained word vectors***\n",
        "[GloVe [Global Vectors for Word Representation] word Vectors from Stanford NLP Group](https://nlp.stanford.edu/projects/glove/)\n",
        "\n",
        "[FastText Word Embeddings](https://https://fasttext.cc/docs/en/crawl-vectors.html)\n",
        "\n",
        "[Blog on Word Embeddings](https://medium.com/@hari4om/word-embedding-d816f643140)\n"
      ],
      "metadata": {
        "id": "6j13G1GzwlpI"
      },
      "id": "6j13G1GzwlpI"
    },
    {
      "cell_type": "code",
      "source": [
        "from google.colab import drive\n",
        "\n",
        "### You can get this file from the link: https://nlp.stanford.edu/projects/glove/glove.6B.zip\n",
        "### Unzip it and upload any of the 50/ 100/ 200/ 300 dimensional .txt file on your drive\n",
        "# Note the file path to point to your downloaded/ uploaded GloVe file\n",
        "\n",
        "drive.mount('/content/drive')\n",
        "glove_file_path = '/content/drive/MyDrive/rep_Python/NLP/glove.6B.50d.txt'   ### For COLAB\n",
        "\n",
        "# glove_file_path = 'D:/......../glove.6B.50d.txt'   ### For Jupyter Notebook\n"
      ],
      "metadata": {
        "colab": {
          "base_uri": "https://localhost:8080/"
        },
        "id": "dDWq6URx4Kub",
        "outputId": "cc67efd0-24ef-41cf-c6a6-88d6e443c609"
      },
      "id": "dDWq6URx4Kub",
      "execution_count": 13,
      "outputs": [
        {
          "output_type": "stream",
          "name": "stdout",
          "text": [
            "Drive already mounted at /content/drive; to attempt to forcibly remount, call drive.mount(\"/content/drive\", force_remount=True).\n"
          ]
        }
      ]
    },
    {
      "cell_type": "code",
      "source": [
        "# Load pre-trained word vectors (GloVe)\n",
        "def load_word_vectors(file_path):\n",
        "    word_vectors = {}\n",
        "    with open(file_path, 'r', encoding='utf-8') as file:\n",
        "        for line in file:\n",
        "            values = line.split()\n",
        "            word = values[0]\n",
        "            vector = list(map(float, values[1:]))\n",
        "            word_vectors[word] = vector\n",
        "    return word_vectors"
      ],
      "metadata": {
        "id": "Iu29OAha6BYV"
      },
      "id": "Iu29OAha6BYV",
      "execution_count": 14,
      "outputs": []
    },
    {
      "cell_type": "code",
      "source": [
        "### You can get this file from the link: https://nlp.stanford.edu/projects/glove/glove.6B.zip\n",
        "### Unzip it and upload any of the 50/ 100/ 200/ 300 dimensional .txt file on your drive\n",
        "# Adjust the file path to point to your downloaded GloVe file\n",
        "\n",
        "word_vectors = load_word_vectors(glove_file_path)\n"
      ],
      "metadata": {
        "id": "56BN3GRtwiga"
      },
      "id": "56BN3GRtwiga",
      "execution_count": 15,
      "outputs": []
    },
    {
      "cell_type": "code",
      "source": [
        "# Check the size of the loaded word vectors\n",
        "print(\"Number of word vectors:\", len(word_vectors))\n",
        "print(\"Vector dimensionality:\", len(word_vectors['word']))\n"
      ],
      "metadata": {
        "colab": {
          "base_uri": "https://localhost:8080/"
        },
        "id": "ARBf9En96HlD",
        "outputId": "217681c2-97cb-4e76-97b9-5ca453e22b53"
      },
      "id": "ARBf9En96HlD",
      "execution_count": 16,
      "outputs": [
        {
          "output_type": "stream",
          "name": "stdout",
          "text": [
            "Number of word vectors: 400000\n",
            "Vector dimensionality: 50\n"
          ]
        }
      ]
    },
    {
      "cell_type": "code",
      "source": [
        "type(word_vectors['happy'])"
      ],
      "metadata": {
        "colab": {
          "base_uri": "https://localhost:8080/"
        },
        "id": "A5fDEddktGPy",
        "outputId": "b5df5e12-c42f-4aa4-d949-7058c4f9109a"
      },
      "id": "A5fDEddktGPy",
      "execution_count": 17,
      "outputs": [
        {
          "output_type": "execute_result",
          "data": {
            "text/plain": [
              "list"
            ]
          },
          "metadata": {},
          "execution_count": 17
        }
      ]
    },
    {
      "cell_type": "code",
      "source": [
        "# Example usage: Getting the vector for a specific word\n",
        "word = \"example\"\n",
        "if word in word_vectors:\n",
        "    vector = word_vectors[word]\n",
        "    print(f\"Vector for '{word}': {vector}\")\n",
        "else:\n",
        "    print(f\"No vector found for '{word}'\")\n"
      ],
      "metadata": {
        "colab": {
          "base_uri": "https://localhost:8080/"
        },
        "id": "OHo8_VQFxIxh",
        "outputId": "f5d3b412-23a2-46f4-ec5f-c678c133e686"
      },
      "id": "OHo8_VQFxIxh",
      "execution_count": 18,
      "outputs": [
        {
          "output_type": "stream",
          "name": "stdout",
          "text": [
            "Vector for 'example': [0.51564, 0.56912, -0.19759, 0.0080456, 0.41697, 0.59502, -0.053312, -0.83222, -0.21715, 0.31045, 0.09352, 0.35323, 0.28151, -0.35308, 0.23496, 0.04429, 0.017109, 0.0063749, -0.01662, -0.69576, 0.019819, -0.52746, -0.14011, 0.21962, 0.13692, -1.2683, -0.89416, -0.1831, 0.23343, -0.058254, 3.2481, -0.48794, -0.01207, -0.81645, 0.21182, -0.17837, -0.02874, 0.099358, -0.14944, 0.2601, 0.18919, 0.15022, 0.18278, 0.50052, -0.025532, 0.24671, 0.10596, 0.13612, 0.0090427, 0.39962]\n"
          ]
        }
      ]
    },
    {
      "cell_type": "code",
      "source": [],
      "metadata": {
        "id": "l6_6ye1i6MhM"
      },
      "id": "l6_6ye1i6MhM",
      "execution_count": null,
      "outputs": []
    }
  ],
  "metadata": {
    "kernelspec": {
      "display_name": "Python 3 (ipykernel)",
      "language": "python",
      "name": "python3"
    },
    "language_info": {
      "codemirror_mode": {
        "name": "ipython",
        "version": 3
      },
      "file_extension": ".py",
      "mimetype": "text/x-python",
      "name": "python",
      "nbconvert_exporter": "python",
      "pygments_lexer": "ipython3",
      "version": "3.10.9"
    },
    "colab": {
      "provenance": []
    }
  },
  "nbformat": 4,
  "nbformat_minor": 5
}